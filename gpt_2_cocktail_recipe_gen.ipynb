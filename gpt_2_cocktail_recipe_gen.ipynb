{
  "nbformat": 4,
  "nbformat_minor": 0,
  "metadata": {
    "colab": {
      "name": "GPT-2 Cocktail Recipe Gen",
      "provenance": [],
      "collapsed_sections": [],
      "toc_visible": true,
      "machine_shape": "hm",
      "include_colab_link": true
    },
    "kernelspec": {
      "name": "python3",
      "display_name": "Python 3"
    },
    "accelerator": "GPU"
  },
  "cells": [
    {
      "cell_type": "markdown",
      "metadata": {
        "id": "view-in-github",
        "colab_type": "text"
      },
      "source": [
        "<a href=\"https://colab.research.google.com/github/KCL-Machine-Learning/cocktail-recipe-gen/blob/notebook/gpt_2_cocktail_recipe_gen.ipynb\" target=\"_parent\"><img src=\"https://colab.research.google.com/assets/colab-badge.svg\" alt=\"Open In Colab\"/></a>"
      ]
    },
    {
      "cell_type": "markdown",
      "metadata": {
        "id": "H7LoMj4GA4n_",
        "colab_type": "text"
      },
      "source": [
        "# Train GPT-2 To Generate Text On Google Colab\n",
        "\n",
        "This notebook focuses on using `gpt-2-simple` to interact with GPT-2. More information about `gpt-2-simple` can be found on [this GitHub repository](https://github.com/minimaxir/gpt-2-simple).\n",
        "\n",
        "To get started:\n",
        "1. Copy this notebook to your Google Drive to keep it and save your changes. (File -> Save a Copy in Drive)\n",
        "2. Make sure you're running the notebook in Google Chrome.\n",
        "3. Run the cell below to set the TensorFlow version and install the gpt-2-simple library we will use to interact with gpt-2\n"
      ]
    },
    {
      "cell_type": "code",
      "metadata": {
        "id": "KBkpRgBCBS2_",
        "colab_type": "code",
        "colab": {}
      },
      "source": [
        "%tensorflow_version 1.x\n",
        "!pip install -q gpt-2-simple\n",
        "import gpt_2_simple as gpt2\n",
        "from datetime import datetime\n",
        "from google.colab import files"
      ],
      "execution_count": 0,
      "outputs": []
    },
    {
      "cell_type": "markdown",
      "metadata": {
        "id": "Bj2IJLHP3KwE",
        "colab_type": "text"
      },
      "source": [
        "# GPU\n",
        "\n",
        "This notebook has access to the Nvidia Tesla P100. Creating a copy of this notebook retains access to this GPU.\n",
        "\n",
        "You can verify the GPU being used by this notebook by running the cell below."
      ]
    },
    {
      "cell_type": "code",
      "metadata": {
        "id": "sUmTooTW3osf",
        "colab_type": "code",
        "colab": {}
      },
      "source": [
        "!nvidia-smi"
      ],
      "execution_count": 0,
      "outputs": []
    },
    {
      "cell_type": "markdown",
      "metadata": {
        "id": "0wXB05bPDYxS",
        "colab_type": "text"
      },
      "source": [
        "# Downloading GPT-2\n",
        "\n",
        "To interact with GPT-2 you must first download one of the GPT-2 models.\n",
        "\n",
        "There are three released sizes of GPT-2:\n",
        "\n",
        "* `124M` (default): the \"small\" model, 0.5GB on disk.\n",
        "* `355M`: the \"medium\" model, 1.3GB on disk.\n",
        "* `774M`: the \"large\" model, 2.9GB on disk.\n",
        "* `1558M`: the \"extra large\" true model, 5.8GB on disk. Cannot currently be finetuned with Colaboratory but can be used to generate text without finetuning.\n",
        "\n",
        "Larger models have more knowledge, but take longer to finetune and longer to generate text.\n",
        "\n",
        "The next cell downloads all 3 finetunable models from Google Cloud Storage and saves it in the Colaboratory VM at `/models/<model_name>`.\n",
        "\n",
        "If you don't need all of them and want to save time/space then comment out the lines for the models you don't need before running the cell.\n",
        "\n",
        "These models aren't permanently saved in the Colaboratory VM; you'll have to redownload them if you want to finetune them at a later time."
      ]
    },
    {
      "cell_type": "code",
      "metadata": {
        "id": "P8wSlgXoDPCR",
        "colab_type": "code",
        "colab": {}
      },
      "source": [
        "gpt2.download_gpt2(model_name=\"124M\")\n",
        "gpt2.download_gpt2(model_name=\"355M\")\n",
        "gpt2.download_gpt2(model_name=\"774M\")"
      ],
      "execution_count": 0,
      "outputs": []
    },
    {
      "cell_type": "markdown",
      "metadata": {
        "id": "N8KXuKWzQSsN",
        "colab_type": "text"
      },
      "source": [
        "# Mounting Google Drive\n",
        "\n",
        "The best way to get input text to-be-trained into the Colaboratory VM, and to get the trained model *out* of Colaboratory, is to route it through Google Drive *first*.\n",
        "\n",
        "Running this cell (which will only work in Colaboratory) will mount your personal Google Drive in the VM, which later cells can use to get data in/out. (it will ask for an auth code; that auth is not saved anywhere)"
      ]
    },
    {
      "cell_type": "code",
      "metadata": {
        "id": "puq4iC6vUAHc",
        "colab_type": "code",
        "colab": {}
      },
      "source": [
        "gpt2.mount_gdrive()"
      ],
      "execution_count": 0,
      "outputs": []
    },
    {
      "cell_type": "markdown",
      "metadata": {
        "id": "BT__brhBCvJu",
        "colab_type": "text"
      },
      "source": [
        "# Uploading Text Files to Train on Colab\n",
        "\n",
        "In the Colaboratory Notebook sidebar on the left of the screen, select *Files*. From there you can upload files:\n",
        "\n",
        "![alt text](https://i.imgur.com/TGcZT4h.png)\n",
        "\n",
        "You may upload **any small text file**  (<10 MB) and update the file name in the cell below, then run the cell.\n",
        "\n",
        "The recommended method to upload a file is to upload it to Google Drive first, then copy that file from Google Drive to the Colaboratory VM.\n",
        "\n",
        "\n",
        "\n"
      ]
    },
    {
      "cell_type": "code",
      "metadata": {
        "id": "6OFnPCLADfll",
        "colab_type": "code",
        "colab": {}
      },
      "source": [
        "file_name1 = \"cocktails.txt\"\n",
        "file_name2 = \"cocktails-full.txt\"\n",
        "\n",
        "file_name = file_name2"
      ],
      "execution_count": 0,
      "outputs": []
    },
    {
      "cell_type": "code",
      "metadata": {
        "id": "-Z6okFD8VKtS",
        "colab_type": "code",
        "colab": {}
      },
      "source": [
        "gpt2.copy_file_from_gdrive(file_name)"
      ],
      "execution_count": 0,
      "outputs": []
    },
    {
      "cell_type": "markdown",
      "metadata": {
        "id": "SjyvyGbA0-rM",
        "colab_type": "text"
      },
      "source": [
        "# Finetuning GPT-2\n",
        "\n",
        "Before finetuning or generating text using a custom model you must set the `run_name` which is essentially the name of the model.\n",
        "\n",
        "If you already have a finetuned model and wish to finetune it further, then use the cell below to copy it from Google Drive. Make sure the `run_name` is set to that of the model you want to copy."
      ]
    },
    {
      "cell_type": "code",
      "metadata": {
        "id": "whqt16kC_h7M",
        "colab_type": "code",
        "colab": {}
      },
      "source": [
        "run_name1 = '124M_cocktails'\n",
        "run_name2 = '355M_cocktails'\n",
        "run_name3 = '774M_cocktails'\n",
        "run_name4 = '124M_cocktails-full'\n",
        "run_name5 = '355M_cocktails-full'\n",
        "run_name6 = '774M_cocktails-full'\n",
        "\n",
        "run_name = run_name6"
      ],
      "execution_count": 0,
      "outputs": []
    },
    {
      "cell_type": "code",
      "metadata": {
        "id": "ctlWG_UPU8LY",
        "colab_type": "code",
        "colab": {}
      },
      "source": [
        "gpt2.copy_checkpoint_from_gdrive(run_name=run_name)"
      ],
      "execution_count": 0,
      "outputs": []
    },
    {
      "cell_type": "markdown",
      "metadata": {
        "id": "LdpZQXknFNY3",
        "colab_type": "text"
      },
      "source": [
        "The next cell will start the actual finetuning of GPT-2. It creates a persistent TensorFlow session which stores the training config, then runs the training for the specified number of `steps`. (to have the finetuning run indefinitely, set `steps = -1`)\n",
        "\n",
        "The model checkpoints will be saved in `/checkpoint/<run_name>`. The checkpoints are saved every 500 steps (by default) and when the cell is stopped.\n",
        "\n",
        "The training might time out after 4ish hours; make sure you end training, save the results, and copy the model to your google drive so you don't lose it!\n",
        "\n",
        "Other optional-but-useful parameters for `gpt2.finetune`:\n",
        "\n",
        "\n",
        "*  **`restore_from`**: Set to `fresh` to start training from the base GPT-2, or set to `latest` to restart training from an existing checkpoint. (If it is set to `latest` and there is no existing checkpoint, it will use the base GPT-2 instead.)\n",
        "* **`sample_every`**: Number of steps to print example output\n",
        "* **`print_every`**: Number of steps to print training progress.\n",
        "* **`learning_rate`**:  Learning rate for the training. (The default is `1e-4`, but this can be lowered to `1e-5` if you have <1MB input data)\n",
        "*  **`run_name`**: subfolder within `checkpoint` to save the model. This is useful if you want to work with multiple models (will also need to specify  `run_name` when loading the model)\n",
        "* **`overwrite`**: Set to `True` if you want to continue finetuning an existing model (and `restore_from='latest'`) without creating duplicate copies. "
      ]
    },
    {
      "cell_type": "code",
      "metadata": {
        "colab_type": "code",
        "id": "yf_Zw0s6eJmN",
        "colab": {}
      },
      "source": [
        "try:\n",
        "  sess = gpt2.start_tf_sess()\n",
        "except ValueError:\n",
        "  sess = gpt2.reset_session(sess)\n",
        "\n",
        "gpt2.finetune(sess,\n",
        "              dataset=file_name,\n",
        "              model_name='774M',  # This dictates which base model to use\n",
        "              steps=1000,  # This dictates the number of steps to finetune for\n",
        "              restore_from='latest',\n",
        "              run_name=run_name,  # For all intents and purposes this is the name of the model\n",
        "              print_every=10,  # This will print the current step, how many seconds the model has finetuned for, the current loss, and the average loss\n",
        "              sample_every=200,  # This will print a sample from the model with no prompt\n",
        "              save_every=500,  # Make sure steps is a multiple of this in order to save after the last step\n",
        "              learning_rate=1e-5\n",
        "              ,overwrite=True  # This will overwrite the model on disk when saving\n",
        "              )"
      ],
      "execution_count": 0,
      "outputs": []
    },
    {
      "cell_type": "markdown",
      "metadata": {
        "id": "IXSuTNERaw6K",
        "colab_type": "text"
      },
      "source": [
        "Saving a Trained Model to Google Drive\n",
        "\n",
        "After the model is trained, you can copy the checkpoint folder to your own Google Drive.\n",
        "\n",
        "If you want to download it to your personal computer, it's strongly recommended you copy it there first, then download from Google Drive. The checkpoint folder is copied as a `.tar` compressed file; you can download it and uncompress it locally."
      ]
    },
    {
      "cell_type": "code",
      "metadata": {
        "id": "bxHJtWPV8NgL",
        "colab_type": "code",
        "colab": {}
      },
      "source": [
        "gpt2.copy_checkpoint_to_gdrive(run_name=run_name)"
      ],
      "execution_count": 0,
      "outputs": []
    }
  ]
}